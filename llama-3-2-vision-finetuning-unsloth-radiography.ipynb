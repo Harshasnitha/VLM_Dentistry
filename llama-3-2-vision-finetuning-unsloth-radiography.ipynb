Usage

Command Line Interface (CLI) Run predictions, training, validation, and exports directly from your terminal:

Predict with a pretrained YOLOv8n model

yolo predict model=yolov8n.pt For additional CLI examples, check the YOLO CLI Docs.

Python API

Embed YOLOv8 into your Python projects with the same flexibility as the CLI:

from ultralytics import YOLO

# Load a pretrained YOLOv8n model
model = YOLO("yolov8n.pt")

# Train on your dataset (e.g., coco8.yaml) for 50 epochs at 640px
model.train(data="coco8.yaml", epochs=50, imgsz=640, device="0")

# Validate on the validation split
model.val()

# Run inference on an image
results = model("path/to/image.jpg")
results[0].show()

# Export to ONNX
model.export(format="onnx")
NumPy

here are the quick start installations steps and usage instructions for NumPy https://numpy.org/install/

Install

pip install numpy

Usage

To perform the mathematical operations

Open CV

here are the quick start installations steps and usage instructions for Open CV (https://pypi.org/project/opencv-python/#installation-and-usage )

Install

pip install opencv

Usage

Used for computer vision and processing

Tensor Flow

here are the quick start installations steps and usage instructions for Tensor Flow(https://pypi.org/project/tensorflow/ )

Install

pip install tensorflow

usage

Used for high performance numerical computation.

Pandas

here are the quick start installations steps and usage instructions for Pandas(https://pypi.org/project/pandas/#documentation )

Install

pip install pandas

Usage

Used for data analysis and manipulation.

Matplotlib

here are the quick start installations steps and usage instructions for matplotlibs(https://matplotlib.org/stable/install/index.html )

Install

pip install matplotlib

Usage

Used for data visualizations.

sklearn

here are the quick start installations steps and usage instructions for sklearn(https://pypi.org/project/scikit-learn/ )

Install

pip install scikit-learn

Usage

To provide the comprehensive tool kit for machine learning

seaborn

here are the quick start installations steps and usage instructions for seaborn(https://pypi.org/project/seaborn/ )

Install

pip install seaborn

Usage

Visualization library for statistical graphics plotting in python

LabelImg

here are the quick start installations steps and usage instructions for LabelImg(https://pypi.org/project/labelImg/ )

Install

pip3 install labelImg labelImg labelImg [IMAGE_PATH] [PRE-DEFINED CLASS FILE]

Usage

Used for annotaions of images

